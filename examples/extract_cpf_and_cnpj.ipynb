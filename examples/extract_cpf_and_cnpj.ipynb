{
 "cells": [
  {
   "cell_type": "code",
   "execution_count": 1,
   "metadata": {},
   "outputs": [
    {
     "name": "stdout",
     "output_type": "stream",
     "text": [
      "Defaulting to user installation because normal site-packages is not writeable\n",
      "Collecting querido-diario-toolbox\n",
      "  Using cached querido_diario_toolbox-0.1.0-py2.py3-none-any.whl (10 kB)\n",
      "Collecting python-magic\n",
      "  Using cached python_magic-0.4.24-py2.py3-none-any.whl (12 kB)\n",
      "Installing collected packages: python-magic, querido-diario-toolbox\n",
      "Successfully installed python-magic-0.4.24 querido-diario-toolbox-0.1.0\n",
      "Note: you may need to restart the kernel to use updated packages.\n"
     ]
    }
   ],
   "source": [
    "pip install querido-diario-toolbox"
   ]
  },
  {
   "cell_type": "code",
   "execution_count": 24,
   "metadata": {},
   "outputs": [],
   "source": [
    "# Let's import the functions used to extract and validate CPF and CNPJ\n",
    "from querido_diario_toolbox.process.edition_process import (\n",
    "    extract_and_validate_cnpj,\n",
    "    extract_and_validate_cpf,\n",
    "    extract_cnpjs,\n",
    "    extract_cpfs\n",
    ")"
   ]
  },
  {
   "cell_type": "code",
   "execution_count": 25,
   "metadata": {},
   "outputs": [],
   "source": [
    "text = \"\"\"These is a text with a lot of CPFs and CNPJs\n",
    "The following lines have invalid CNPJs and CPFs\n",
    "This is a fake line with a invalid CNPJ, 12.333.444/0001-55\n",
    "This is a invalid CNPJ 12.333.444/0001-55\n",
    "12.333.444/0001-55 is another CNPJ\n",
    "This is the fourth invalid CNPJ 12.333.444/0001-55\n",
    "Well, you know what is this... 12.333.444/0001-55\n",
    "Finally, the first CPF, 111.222.333-00. An invalid CPF\n",
    "The las invalid CPF 444.555.666-11\n",
    "Now, lets define some Valid CNPJ and CPF:\n",
    "This time, we begin with CPF 453.178.287-91\n",
    "133.267.246-91 is the second CPF\n",
    "Another CPF 070.680.938-68. We have only one more\n",
    "The final CPF 062.446.028-20. The following line have CNPJ\n",
    "The first CNPJ 05.144.757/0001-72\n",
    "The second one, 38.902.822/0001-30.\n",
    "The las CNPJ: 04.090.574/0001-59. Thanks I do not need to create fake text anymore.\n",
    "\"\"\""
   ]
  },
  {
   "cell_type": "markdown",
   "metadata": {},
   "source": [
    "The Querido Diario Toolbox has functions to extract CPF, CNPJ from text. For that, the users can get any substring following the CPF and CNPJ patterns and validate if they are valid or not. If the users are interested only in find CPF/CNPJ text the following funtions can be used. To CPF extraction:"
   ]
  },
  {
   "cell_type": "code",
   "execution_count": 26,
   "metadata": {},
   "outputs": [
    {
     "name": "stdout",
     "output_type": "stream",
     "text": [
      "['111.222.333-00', '444.555.666-11', '453.178.287-91', '133.267.246-91', '070.680.938-68', '062.446.028-20']\n"
     ]
    }
   ],
   "source": [
    "cpfs = extract_cpfs(text)\n",
    "print(cpfs)"
   ]
  },
  {
   "cell_type": "markdown",
   "metadata": {},
   "source": [
    "Extract CNPJs:"
   ]
  },
  {
   "cell_type": "code",
   "execution_count": 27,
   "metadata": {},
   "outputs": [
    {
     "name": "stdout",
     "output_type": "stream",
     "text": [
      "['12.333.444/0001-55', '12.333.444/0001-55', '12.333.444/0001-55', '12.333.444/0001-55', '12.333.444/0001-55', '05.144.757/0001-72', '38.902.822/0001-30', '04.090.574/0001-59']\n"
     ]
    }
   ],
   "source": [
    "cnpjs = extract_cnpjs(text)\n",
    "print(cnpjs)"
   ]
  },
  {
   "cell_type": "markdown",
   "metadata": {},
   "source": [
    "If the user wants just the valid CPFs/CNPJs they can use the following functions. To extract and validate CPFs:"
   ]
  },
  {
   "cell_type": "code",
   "execution_count": 28,
   "metadata": {},
   "outputs": [
    {
     "name": "stdout",
     "output_type": "stream",
     "text": [
      "['453.178.287-91', '133.267.246-91', '070.680.938-68', '062.446.028-20']\n"
     ]
    }
   ],
   "source": [
    "cpfs = extract_and_validate_cpf(text)\n",
    "print(cpfs)"
   ]
  },
  {
   "cell_type": "markdown",
   "metadata": {},
   "source": [
    "Extract and validate CNPJs"
   ]
  },
  {
   "cell_type": "code",
   "execution_count": 29,
   "metadata": {},
   "outputs": [
    {
     "name": "stdout",
     "output_type": "stream",
     "text": [
      "['05.144.757/0001-72', '38.902.822/0001-30', '04.090.574/0001-59']\n"
     ]
    }
   ],
   "source": [
    "cnpjs = extract_and_validate_cnpj(text)\n",
    "print(cnpjs)"
   ]
  }
 ],
 "metadata": {
  "kernelspec": {
   "display_name": "Python 3 (ipykernel)",
   "language": "python",
   "name": "python3"
  },
  "language_info": {
   "codemirror_mode": {
    "name": "ipython",
    "version": 3
   },
   "file_extension": ".py",
   "mimetype": "text/x-python",
   "name": "python",
   "nbconvert_exporter": "python",
   "pygments_lexer": "ipython3",
   "version": "3.9.7"
  }
 },
 "nbformat": 4,
 "nbformat_minor": 4
}
