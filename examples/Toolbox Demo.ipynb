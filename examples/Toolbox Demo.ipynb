{
 "cells": [
  {
   "cell_type": "markdown",
   "metadata": {},
   "source": [
    "Arquivos auxiliares são encontrados no repositório da biblioteca e os `.jar` são baixados ao executar `make setup`."
   ]
  },
  {
   "cell_type": "code",
   "execution_count": null,
   "metadata": {},
   "outputs": [],
   "source": [
    "pip install querido-diario-toolbox"
   ]
  },
  {
   "cell_type": "code",
   "execution_count": null,
   "metadata": {},
   "outputs": [],
   "source": [
    "# import statements\n",
    "from pathlib import Path\n",
    "import os, re"
   ]
  },
  {
   "cell_type": "code",
   "execution_count": null,
   "metadata": {},
   "outputs": [],
   "source": [
    "# execute everything from root folder\n",
    "os.chdir('..')"
   ]
  },
  {
   "cell_type": "code",
   "execution_count": null,
   "metadata": {},
   "outputs": [],
   "source": [
    "# define path variables\n",
    "ROOT = Path(os.path.abspath('.'))\n",
    "DATA = ROOT / 'examples'\n",
    "TEST = ROOT / 'tests/data'"
   ]
  },
  {
   "cell_type": "code",
   "execution_count": null,
   "metadata": {},
   "outputs": [],
   "source": [
    "# use actual gazette file\n",
    "actual_gazette = os.path.join(DATA, '38004a4b724a24c1e3c746596acf04efb0c95a58.pdf')\n",
    "\n",
    "# use test files to show extraction from image\n",
    "fake_png = TEST / \"fake_gazette.png\""
   ]
  },
  {
   "cell_type": "code",
   "execution_count": null,
   "metadata": {},
   "outputs": [],
   "source": [
    "# visualize gazette\n",
    "from wand.image import Image as Image\n",
    "img = Image(filename=actual_gazette+'[1]')\n",
    "img"
   ]
  },
  {
   "cell_type": "code",
   "execution_count": null,
   "metadata": {},
   "outputs": [],
   "source": [
    "# load toolbox classes and methods\n",
    "from querido_diario_toolbox import Gazette\n",
    "\n",
    "# process a single, easy to work with gazette\n",
    "gazette = Gazette(\n",
    "    filepath=actual_gazette,\n",
    "    apache_tika_jar= f'{ROOT}/tests/bin/tika-app-1.24.1.jar',\n",
    "    content=None\n",
    ")"
   ]
  },
  {
   "cell_type": "code",
   "execution_count": null,
   "metadata": {},
   "outputs": [],
   "source": [
    "# extract content\n",
    "gazette.extract_content()\n",
    "gazette.filepath"
   ]
  },
  {
   "cell_type": "code",
   "execution_count": null,
   "metadata": {},
   "outputs": [],
   "source": [
    "# load content into memory\n",
    "gazette.load_content()\n",
    "gazette.content"
   ]
  },
  {
   "cell_type": "code",
   "execution_count": null,
   "metadata": {},
   "outputs": [],
   "source": [
    "# extract metadata\n",
    "gazette.filepath = actual_gazette\n",
    "gazette.extract_content(metadata=True)\n",
    "gazette.load_content()\n",
    "gazette.content"
   ]
  },
  {
   "cell_type": "code",
   "execution_count": null,
   "metadata": {},
   "outputs": [],
   "source": [
    "# process text\n",
    "gazette.filepath = actual_gazette\n",
    "gazette.extract_content()\n",
    "gazette.load_content()\n",
    "text = gazette.process_text()\n",
    "text"
   ]
  },
  {
   "cell_type": "code",
   "execution_count": null,
   "metadata": {},
   "outputs": [],
   "source": [
    "# process text but store text in content variable\n",
    "gazette.filepath = actual_gazette\n",
    "gazette.extract_content()\n",
    "gazette.load_content()\n",
    "gazette.process_text(store_text=True)\n",
    "gazette.content"
   ]
  },
  {
   "cell_type": "code",
   "execution_count": null,
   "metadata": {},
   "outputs": [],
   "source": [
    "# check if in fact these are the same object\n",
    "text == gazette.content"
   ]
  },
  {
   "cell_type": "code",
   "execution_count": null,
   "metadata": {},
   "outputs": [],
   "source": [
    "# slice text\n",
    "text[:(1611+666)]"
   ]
  },
  {
   "cell_type": "code",
   "execution_count": null,
   "metadata": {},
   "outputs": [],
   "source": [
    "# extract text from image\n",
    "gazette.filepath = str(fake_png)\n",
    "gazette.extract_content()\n",
    "gazette.load_content()\n",
    "text = gazette.process_text()\n",
    "text"
   ]
  },
  {
   "cell_type": "code",
   "execution_count": null,
   "metadata": {},
   "outputs": [],
   "source": [
    "# display image\n",
    "Image(filename=fake_png)"
   ]
  }
 ],
 "metadata": {
  "kernelspec": {
   "display_name": "Python 3 (ipykernel)",
   "language": "python",
   "name": "python3"
  },
  "language_info": {
   "codemirror_mode": {
    "name": "ipython",
    "version": 3
   },
   "file_extension": ".py",
   "mimetype": "text/x-python",
   "name": "python",
   "nbconvert_exporter": "python",
   "pygments_lexer": "ipython3",
   "version": "3.9.7"
  }
 },
 "nbformat": 4,
 "nbformat_minor": 4
}
